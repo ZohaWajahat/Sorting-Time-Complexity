{
 "cells": [
  {
   "cell_type": "markdown",
   "id": "4c5027e0",
   "metadata": {},
   "source": [
    "# Importing Libraries"
   ]
  },
  {
   "cell_type": "code",
   "execution_count": 230,
   "id": "d47735e8",
   "metadata": {},
   "outputs": [],
   "source": [
    "import numpy as np\n",
    "import pandas as pd\n",
    "import time\n",
    "import matplotlib.pyplot as plt"
   ]
  },
  {
   "cell_type": "markdown",
   "id": "abb718ea",
   "metadata": {},
   "source": [
    "# Task 1"
   ]
  },
  {
   "cell_type": "markdown",
   "id": "2296aac5",
   "metadata": {},
   "source": [
    "### Creating Dictionay for storing Time"
   ]
  },
  {
   "cell_type": "code",
   "execution_count": 231,
   "id": "66bcd2ee",
   "metadata": {},
   "outputs": [],
   "source": [
    "data = {\"Array Size\": [100, 500, 1000, 5000, 10000, 50000, 100000],\n",
    "       \"Bubble\": [],\n",
    "       \"Insertion\": [],\n",
    "       \"Selection\": [],\n",
    "       \"Merge\": [],\n",
    "       \"Quick\": [],\n",
    "       \"Heap\": [],\n",
    "       \"Count\": [],\n",
    "       \"Radix\": [],\n",
    "       \"Bucket\": []}"
   ]
  },
  {
   "cell_type": "code",
   "execution_count": 232,
   "id": "f010fae2",
   "metadata": {},
   "outputs": [
    {
     "data": {
      "text/plain": [
       "{'Array Size': [100, 500, 1000, 5000, 10000, 50000, 100000],\n",
       " 'Bubble': [],\n",
       " 'Insertion': [],\n",
       " 'Selection': [],\n",
       " 'Merge': [],\n",
       " 'Quick': [],\n",
       " 'Heap': [],\n",
       " 'Count': [],\n",
       " 'Radix': [],\n",
       " 'Bucket': []}"
      ]
     },
     "execution_count": 232,
     "metadata": {},
     "output_type": "execute_result"
    }
   ],
   "source": [
    "data"
   ]
  },
  {
   "cell_type": "markdown",
   "id": "268bf440",
   "metadata": {},
   "source": [
    "### Generating Random Dataset"
   ]
  },
  {
   "cell_type": "code",
   "execution_count": 233,
   "id": "bd92c4cc",
   "metadata": {},
   "outputs": [],
   "source": [
    "# 100, 500, 1000, 5000, 10000, 50000, and 100000\n",
    "arr1 = np.random.randint(1, 200, size = 100)\n",
    "arr2 = np.random.randint(1, 1000, size = 500)\n",
    "arr3 = np.random.randint(1, 2000, size = 1000)\n",
    "arr4 = np.random.randint(1, 10000, size = 5000)\n",
    "arr5 = np.random.randint(1, 20000, size = 10000)\n",
    "arr6 = np.random.randint(1, 100000, size = 50000)\n",
    "arr7 = np.random.randint(1, 200000, size = 100000)"
   ]
  },
  {
   "cell_type": "markdown",
   "id": "59dcb1b7",
   "metadata": {},
   "source": [
    "### Sorting array in reverse"
   ]
  },
  {
   "cell_type": "code",
   "execution_count": 234,
   "id": "b7b6cc47",
   "metadata": {},
   "outputs": [],
   "source": [
    "arr1 = np.sort(arr1)[::-1]\n",
    "arr2 = np.sort(arr2)[::-1]\n",
    "arr3 = np.sort(arr3)[::-1]\n",
    "arr4 = np.sort(arr4)[::-1]\n",
    "arr5 = np.sort(arr5)[::-1]\n",
    "arr6 = np.sort(arr6)[::-1]\n",
    "arr7 = np.sort(arr7)[::-1]"
   ]
  },
  {
   "cell_type": "markdown",
   "id": "aa435cc3",
   "metadata": {},
   "source": [
    "### Insertion Sort Function"
   ]
  },
  {
   "cell_type": "code",
   "execution_count": 235,
   "id": "1f66ecfe",
   "metadata": {},
   "outputs": [],
   "source": [
    "def insertionsort(array):\n",
    "    array1 = array.copy()\n",
    "    time1 = time.time()\n",
    "    key = 0\n",
    "    for i in range(1, len(array1)):\n",
    "        key = array1[i]\n",
    "        j = i - 1\n",
    "        \n",
    "        while( j >= 0 and array1[j] > key):\n",
    "            array1[j + 1] = array1[j]\n",
    "            j -= 1\n",
    "        array1[j + 1] = key\n",
    "    time2 = time.time()\n",
    "    timet = time2 - time1\n",
    "    timet *= 1000\n",
    "    return array1, timet"
   ]
  },
  {
   "cell_type": "markdown",
   "id": "801e176d",
   "metadata": {},
   "source": [
    "### Generating Insertion sort for all arrays"
   ]
  },
  {
   "cell_type": "code",
   "execution_count": 236,
   "id": "3e9db0b4",
   "metadata": {},
   "outputs": [],
   "source": [
    "insert1, timeinsert1 = insertionsort(arr1)"
   ]
  },
  {
   "cell_type": "code",
   "execution_count": 237,
   "id": "4bc2c95d",
   "metadata": {},
   "outputs": [],
   "source": [
    "insert2, timeinsert2 = insertionsort(arr2)"
   ]
  },
  {
   "cell_type": "code",
   "execution_count": 238,
   "id": "6cfa215d",
   "metadata": {},
   "outputs": [],
   "source": [
    "insert3, timeinsert3 = insertionsort(arr3)"
   ]
  },
  {
   "cell_type": "code",
   "execution_count": 239,
   "id": "2751ee2f",
   "metadata": {},
   "outputs": [],
   "source": [
    "insert4, timeinsert4 = insertionsort(arr4)"
   ]
  },
  {
   "cell_type": "code",
   "execution_count": 240,
   "id": "321249bb",
   "metadata": {},
   "outputs": [],
   "source": [
    "insert5, timeinsert5 = insertionsort(arr5)"
   ]
  },
  {
   "cell_type": "code",
   "execution_count": null,
   "id": "a74cea35",
   "metadata": {},
   "outputs": [],
   "source": [
    "insert6, timeinsert6 = insertionsort(arr6)"
   ]
  },
  {
   "cell_type": "code",
   "execution_count": 13,
   "id": "46794ed1",
   "metadata": {},
   "outputs": [],
   "source": [
    "insert7, timeinsert7 = insertionsort(arr7)"
   ]
  },
  {
   "cell_type": "code",
   "execution_count": 14,
   "id": "863e6a36",
   "metadata": {},
   "outputs": [
    {
     "name": "stdout",
     "output_type": "stream",
     "text": [
      "[199998 199994 199994 ...     12      9      3]\n",
      "[     3      9     12 ... 199994 199994 199998]\n",
      "316580.9030532837\n"
     ]
    }
   ],
   "source": [
    "print(arr7)\n",
    "print(insert7)\n",
    "print(timeinsert7)"
   ]
  },
  {
   "cell_type": "markdown",
   "id": "1a4d7de5",
   "metadata": {},
   "source": [
    "### Bubble Sort"
   ]
  },
  {
   "cell_type": "code",
   "execution_count": 15,
   "id": "f53d25fa",
   "metadata": {},
   "outputs": [],
   "source": [
    "def bubblesort(array, size):\n",
    "    array1 = array.copy()\n",
    "    time1 = time.time()\n",
    "    for i in range(0, size - 1):\n",
    "        for j in range(0, size - i - 1):\n",
    "            if array1[j] > array1[j + 1]:\n",
    "                array1[j], array1[j + 1] = array1[j + 1], array1[j]\n",
    "    time2 = time.time()\n",
    "    timet = time2 - time1\n",
    "    timet *= 1000\n",
    "    return array1, timet"
   ]
  },
  {
   "cell_type": "markdown",
   "id": "90faaf96",
   "metadata": {},
   "source": [
    "### Generating Bubble sort for all arrays"
   ]
  },
  {
   "cell_type": "code",
   "execution_count": 16,
   "id": "c910e994",
   "metadata": {},
   "outputs": [],
   "source": [
    "bubble1, time1 = bubblesort(arr1, 100)"
   ]
  },
  {
   "cell_type": "code",
   "execution_count": 17,
   "id": "e04988df",
   "metadata": {},
   "outputs": [],
   "source": [
    "bubble2, time2 = bubblesort(arr2, 500)"
   ]
  },
  {
   "cell_type": "code",
   "execution_count": 18,
   "id": "3d477e44",
   "metadata": {},
   "outputs": [],
   "source": [
    "bubble3, time3 = bubblesort(arr3, 1000)"
   ]
  },
  {
   "cell_type": "code",
   "execution_count": 19,
   "id": "4af7d90e",
   "metadata": {},
   "outputs": [],
   "source": [
    "bubble4, time4 = bubblesort(arr4, 5000)"
   ]
  },
  {
   "cell_type": "code",
   "execution_count": 20,
   "id": "b9564a98",
   "metadata": {},
   "outputs": [],
   "source": [
    "bubble5, time5 = bubblesort(arr5, 10000)"
   ]
  },
  {
   "cell_type": "code",
   "execution_count": 21,
   "id": "b8a8aa91",
   "metadata": {},
   "outputs": [],
   "source": [
    "bubble6, time6 = bubblesort(arr6, 50000)"
   ]
  },
  {
   "cell_type": "code",
   "execution_count": 23,
   "id": "bc8830a0",
   "metadata": {},
   "outputs": [],
   "source": [
    "bubble7, time7 = bubblesort(arr7, 100000)"
   ]
  },
  {
   "cell_type": "code",
   "execution_count": 24,
   "id": "e6768ef2",
   "metadata": {},
   "outputs": [
    {
     "name": "stdout",
     "output_type": "stream",
     "text": [
      "[     3      9     12 ... 199994 199994 199998]\n",
      "569245.116186142\n"
     ]
    },
    {
     "data": {
      "text/plain": [
       "array([199998, 199994, 199994, ...,     12,      9,      3])"
      ]
     },
     "execution_count": 24,
     "metadata": {},
     "output_type": "execute_result"
    }
   ],
   "source": [
    "print(bubble7)\n",
    "print(time7)\n",
    "arr7"
   ]
  },
  {
   "cell_type": "markdown",
   "id": "f23cf4a5",
   "metadata": {},
   "source": [
    "### Selection sort Function"
   ]
  },
  {
   "cell_type": "code",
   "execution_count": 25,
   "id": "fab25243",
   "metadata": {},
   "outputs": [],
   "source": [
    "def selectionsort(array, size):\n",
    "    array1 = array.copy()\n",
    "    time1 = time.time()\n",
    "    for i in range(size):\n",
    "        min_idx = i\n",
    "        for j in range(i + 1, size):\n",
    "            if array1[j] < array1[min_idx]:\n",
    "                min_idx = j\n",
    "        array1[i], array1[min_idx] = array1[min_idx], array1[i]\n",
    "    time2 = time.time()\n",
    "    timet = time2 - time1\n",
    "    timet *= 1000\n",
    "    return array1, timet"
   ]
  },
  {
   "cell_type": "code",
   "execution_count": 26,
   "id": "53fae611",
   "metadata": {},
   "outputs": [],
   "source": [
    "selection1, timeselect1 = selectionsort(arr1, 100)"
   ]
  },
  {
   "cell_type": "code",
   "execution_count": 30,
   "id": "a2cc805a",
   "metadata": {},
   "outputs": [],
   "source": [
    "selection2, timeselect2 = selectionsort(arr2, 500)"
   ]
  },
  {
   "cell_type": "code",
   "execution_count": 31,
   "id": "977a2f29",
   "metadata": {},
   "outputs": [],
   "source": [
    "selection3, timeselect3 = selectionsort(arr3, 1000)"
   ]
  },
  {
   "cell_type": "code",
   "execution_count": 32,
   "id": "3baa1a90",
   "metadata": {},
   "outputs": [],
   "source": [
    "selection4, timeselect4 = selectionsort(arr4, 5000)"
   ]
  },
  {
   "cell_type": "code",
   "execution_count": 33,
   "id": "71aefdd2",
   "metadata": {},
   "outputs": [],
   "source": [
    "selection5, timeselect5 = selectionsort(arr5, 10000)"
   ]
  },
  {
   "cell_type": "code",
   "execution_count": 34,
   "id": "8a1ef04a",
   "metadata": {},
   "outputs": [],
   "source": [
    "selection6, timeselect6 = selectionsort(arr6, 50000)"
   ]
  },
  {
   "cell_type": "code",
   "execution_count": 35,
   "id": "7ae9e9e8",
   "metadata": {},
   "outputs": [],
   "source": [
    "selection7, timeselect7 = selectionsort(arr7, 100000)"
   ]
  },
  {
   "cell_type": "markdown",
   "id": "9af1dd9e",
   "metadata": {},
   "source": [
    "### Merge Sort Function"
   ]
  },
  {
   "cell_type": "code",
   "execution_count": 180,
   "id": "b4fab512",
   "metadata": {},
   "outputs": [],
   "source": [
    "def merge(arr, left, mid, right):\n",
    "    \"\"\"\n",
    "    Merge two sorted subarrays of arr.\n",
    "    First subarray is arr[left..mid]\n",
    "    Second subarray is arr[mid+1..right]\n",
    "    \"\"\"\n",
    "    left_subarray = arr[left:mid+1]\n",
    "    right_subarray = arr[mid+1:right+1]\n",
    "\n",
    "    i = 0  # Initial index of left_subarray\n",
    "    j = 0  # Initial index of right_subarray\n",
    "    k = left  # Initial index of merged array\n",
    "\n",
    "    while i < len(left_subarray) and j < len(right_subarray):\n",
    "        if left_subarray[i] <= right_subarray[j]:\n",
    "            arr[k] = left_subarray[i]\n",
    "            i += 1\n",
    "        else:\n",
    "            arr[k] = right_subarray[j]\n",
    "            j += 1\n",
    "        k += 1\n",
    "\n",
    "    while i < len(left_subarray):\n",
    "        arr[k] = left_subarray[i]\n",
    "        i += 1\n",
    "        k += 1\n",
    "\n",
    "    while j < len(right_subarray):\n",
    "        arr[k] = right_subarray[j]\n",
    "        j += 1\n",
    "        k += 1\n",
    "def recursive_merge_sort(arr, left, right):\n",
    "    if left < right:\n",
    "        mid = (left + right) // 2\n",
    "        recursive_merge_sort(arr, left, mid)\n",
    "        recursive_merge_sort(arr, mid + 1, right)\n",
    "        merge(arr, left, mid, right)"
   ]
  },
  {
   "cell_type": "code",
   "execution_count": 186,
   "id": "065b9094",
   "metadata": {},
   "outputs": [],
   "source": []
  },
  {
   "cell_type": "code",
   "execution_count": 188,
   "id": "c16ef169",
   "metadata": {},
   "outputs": [],
   "source": [
    "merge1, mergetime1 = mergesort(arr1)"
   ]
  },
  {
   "cell_type": "code",
   "execution_count": 189,
   "id": "98b79c3d",
   "metadata": {},
   "outputs": [
    {
     "name": "stdout",
     "output_type": "stream",
     "text": [
      "0.0\n",
      "[1 1 1 1 1 1 1 1 1 1 1 1 1 1 1 1 1 1 1 1 1 1 1 1 1 1 1 1 1 1 1 1 1 1 1 1 1\n",
      " 1 1 1 1 1 1 1 1 1 1 1 1 1 1 1 1 1 1 1 1 1 1 1 1 1 1 1 1 1 1 1 1 1 1 1 1 1\n",
      " 1 1 1 1 1 1 1 1 1 1 1 1 1 1 1 1 1 1 1 1 1 1 1 1 1 1]\n"
     ]
    },
    {
     "data": {
      "text/plain": [
       "array([198, 191, 190, 189, 185, 184, 182, 179, 179, 178, 175, 174, 173,\n",
       "       173, 172, 170, 170, 167, 165, 162, 161, 161, 160, 160, 160, 158,\n",
       "       158, 154, 153, 152, 150, 148, 143, 140, 139, 138, 137, 135, 132,\n",
       "       130, 130, 128, 128, 127, 124, 122, 118, 116, 112, 112, 108, 104,\n",
       "       103, 102, 101,  97,  95,  87,  83,  83,  82,  82,  82,  80,  80,\n",
       "        78,  78,  77,  76,  75,  69,  67,  67,  63,  62,  59,  56,  56,\n",
       "        54,  53,  52,  41,  34,  34,  34,  30,  28,  28,  27,  24,  22,\n",
       "        21,  14,  13,   9,   8,   7,   7,   3,   1])"
      ]
     },
     "execution_count": 189,
     "metadata": {},
     "output_type": "execute_result"
    }
   ],
   "source": [
    "print(mergetime1)\n",
    "print(merge1)\n",
    "arr1"
   ]
  },
  {
   "cell_type": "markdown",
   "id": "723926d6",
   "metadata": {},
   "source": [
    "### Quick Sort Function"
   ]
  },
  {
   "cell_type": "code",
   "execution_count": 198,
   "id": "cfd3e1ea",
   "metadata": {},
   "outputs": [],
   "source": [
    "def partition(arr, low, high):\n",
    "    \"\"\"\n",
    "    Partition the array for quicksort. Picks the last element as the pivot.\n",
    "    Elements smaller than the pivot are moved to the left, and larger to the right.\n",
    "    \"\"\"\n",
    "    pivot = arr[high]\n",
    "    i = low - 1  # Index of the smaller element\n",
    "\n",
    "    for j in range(low, high):\n",
    "        # If the current element is smaller than or equal to the pivot\n",
    "        if arr[j] <= pivot:\n",
    "            i += 1\n",
    "            arr[i], arr[j] = arr[j], arr[i]\n",
    "\n",
    "    # Swap the pivot element with the element at i+1\n",
    "    arr[i + 1], arr[high] = arr[high], arr[i + 1]\n",
    "    return i + 1"
   ]
  },
  {
   "cell_type": "code",
   "execution_count": 199,
   "id": "adfbb701",
   "metadata": {},
   "outputs": [],
   "source": [
    "def quick_sort(arr, low, high):\n",
    "    array = arr.copy()\n",
    "    time1 = time.time()\n",
    "    for i in range(len(array)):\n",
    "        if low < high:\n",
    "            # Partition the array and get the pivot index\n",
    "            pi = partition(array, low, high)\n",
    "\n",
    "            # Recursively sort elements before and after partition\n",
    "            quick_sort(array, low, pi - 1)\n",
    "            quick_sort(array, pi + 1, high)\n",
    "    time2 = time.time()\n",
    "    timet = (time2 - time1) * 1000\n",
    "    return array, timet"
   ]
  },
  {
   "cell_type": "code",
   "execution_count": 197,
   "id": "9239fb2e",
   "metadata": {},
   "outputs": [
    {
     "ename": "KeyboardInterrupt",
     "evalue": "",
     "output_type": "error",
     "traceback": [
      "\u001b[1;31m---------------------------------------------------------------------------\u001b[0m",
      "\u001b[1;31mKeyboardInterrupt\u001b[0m                         Traceback (most recent call last)",
      "Cell \u001b[1;32mIn[197], line 1\u001b[0m\n\u001b[1;32m----> 1\u001b[0m quick1, quicktime1 \u001b[38;5;241m=\u001b[39m quick_sort(arr1, \u001b[38;5;241m0\u001b[39m, \u001b[38;5;28mlen\u001b[39m(arr1) \u001b[38;5;241m-\u001b[39m \u001b[38;5;241m1\u001b[39m)\n",
      "Cell \u001b[1;32mIn[196], line 11\u001b[0m, in \u001b[0;36mquick_sort\u001b[1;34m(arr, low, high)\u001b[0m\n\u001b[0;32m      9\u001b[0m         \u001b[38;5;66;03m# Recursively sort elements before and after partition\u001b[39;00m\n\u001b[0;32m     10\u001b[0m         quick_sort(array, low, pi \u001b[38;5;241m-\u001b[39m \u001b[38;5;241m1\u001b[39m)\n\u001b[1;32m---> 11\u001b[0m         quick_sort(array, pi \u001b[38;5;241m+\u001b[39m \u001b[38;5;241m1\u001b[39m, high)\n\u001b[0;32m     12\u001b[0m time2 \u001b[38;5;241m=\u001b[39m time\u001b[38;5;241m.\u001b[39mtime()\n\u001b[0;32m     13\u001b[0m timet \u001b[38;5;241m=\u001b[39m (time2 \u001b[38;5;241m-\u001b[39m time1) \u001b[38;5;241m*\u001b[39m \u001b[38;5;241m1000\u001b[39m\n",
      "Cell \u001b[1;32mIn[196], line 10\u001b[0m, in \u001b[0;36mquick_sort\u001b[1;34m(arr, low, high)\u001b[0m\n\u001b[0;32m      7\u001b[0m         pi \u001b[38;5;241m=\u001b[39m partition(array, low, high)\n\u001b[0;32m      9\u001b[0m         \u001b[38;5;66;03m# Recursively sort elements before and after partition\u001b[39;00m\n\u001b[1;32m---> 10\u001b[0m         quick_sort(array, low, pi \u001b[38;5;241m-\u001b[39m \u001b[38;5;241m1\u001b[39m)\n\u001b[0;32m     11\u001b[0m         quick_sort(array, pi \u001b[38;5;241m+\u001b[39m \u001b[38;5;241m1\u001b[39m, high)\n\u001b[0;32m     12\u001b[0m time2 \u001b[38;5;241m=\u001b[39m time\u001b[38;5;241m.\u001b[39mtime()\n",
      "Cell \u001b[1;32mIn[196], line 11\u001b[0m, in \u001b[0;36mquick_sort\u001b[1;34m(arr, low, high)\u001b[0m\n\u001b[0;32m      9\u001b[0m         \u001b[38;5;66;03m# Recursively sort elements before and after partition\u001b[39;00m\n\u001b[0;32m     10\u001b[0m         quick_sort(array, low, pi \u001b[38;5;241m-\u001b[39m \u001b[38;5;241m1\u001b[39m)\n\u001b[1;32m---> 11\u001b[0m         quick_sort(array, pi \u001b[38;5;241m+\u001b[39m \u001b[38;5;241m1\u001b[39m, high)\n\u001b[0;32m     12\u001b[0m time2 \u001b[38;5;241m=\u001b[39m time\u001b[38;5;241m.\u001b[39mtime()\n\u001b[0;32m     13\u001b[0m timet \u001b[38;5;241m=\u001b[39m (time2 \u001b[38;5;241m-\u001b[39m time1) \u001b[38;5;241m*\u001b[39m \u001b[38;5;241m1000\u001b[39m\n",
      "Cell \u001b[1;32mIn[196], line 10\u001b[0m, in \u001b[0;36mquick_sort\u001b[1;34m(arr, low, high)\u001b[0m\n\u001b[0;32m      7\u001b[0m         pi \u001b[38;5;241m=\u001b[39m partition(array, low, high)\n\u001b[0;32m      9\u001b[0m         \u001b[38;5;66;03m# Recursively sort elements before and after partition\u001b[39;00m\n\u001b[1;32m---> 10\u001b[0m         quick_sort(array, low, pi \u001b[38;5;241m-\u001b[39m \u001b[38;5;241m1\u001b[39m)\n\u001b[0;32m     11\u001b[0m         quick_sort(array, pi \u001b[38;5;241m+\u001b[39m \u001b[38;5;241m1\u001b[39m, high)\n\u001b[0;32m     12\u001b[0m time2 \u001b[38;5;241m=\u001b[39m time\u001b[38;5;241m.\u001b[39mtime()\n",
      "    \u001b[1;31m[... skipping similar frames: quick_sort at line 10 (38 times), quick_sort at line 11 (35 times)]\u001b[0m\n",
      "Cell \u001b[1;32mIn[196], line 10\u001b[0m, in \u001b[0;36mquick_sort\u001b[1;34m(arr, low, high)\u001b[0m\n\u001b[0;32m      7\u001b[0m         pi \u001b[38;5;241m=\u001b[39m partition(array, low, high)\n\u001b[0;32m      9\u001b[0m         \u001b[38;5;66;03m# Recursively sort elements before and after partition\u001b[39;00m\n\u001b[1;32m---> 10\u001b[0m         quick_sort(array, low, pi \u001b[38;5;241m-\u001b[39m \u001b[38;5;241m1\u001b[39m)\n\u001b[0;32m     11\u001b[0m         quick_sort(array, pi \u001b[38;5;241m+\u001b[39m \u001b[38;5;241m1\u001b[39m, high)\n\u001b[0;32m     12\u001b[0m time2 \u001b[38;5;241m=\u001b[39m time\u001b[38;5;241m.\u001b[39mtime()\n",
      "Cell \u001b[1;32mIn[196], line 11\u001b[0m, in \u001b[0;36mquick_sort\u001b[1;34m(arr, low, high)\u001b[0m\n\u001b[0;32m      9\u001b[0m         \u001b[38;5;66;03m# Recursively sort elements before and after partition\u001b[39;00m\n\u001b[0;32m     10\u001b[0m         quick_sort(array, low, pi \u001b[38;5;241m-\u001b[39m \u001b[38;5;241m1\u001b[39m)\n\u001b[1;32m---> 11\u001b[0m         quick_sort(array, pi \u001b[38;5;241m+\u001b[39m \u001b[38;5;241m1\u001b[39m, high)\n\u001b[0;32m     12\u001b[0m time2 \u001b[38;5;241m=\u001b[39m time\u001b[38;5;241m.\u001b[39mtime()\n\u001b[0;32m     13\u001b[0m timet \u001b[38;5;241m=\u001b[39m (time2 \u001b[38;5;241m-\u001b[39m time1) \u001b[38;5;241m*\u001b[39m \u001b[38;5;241m1000\u001b[39m\n",
      "Cell \u001b[1;32mIn[196], line 2\u001b[0m, in \u001b[0;36mquick_sort\u001b[1;34m(arr, low, high)\u001b[0m\n\u001b[0;32m      1\u001b[0m \u001b[38;5;28;01mdef\u001b[39;00m \u001b[38;5;21mquick_sort\u001b[39m(arr, low, high):\n\u001b[1;32m----> 2\u001b[0m     array \u001b[38;5;241m=\u001b[39m arr\u001b[38;5;241m.\u001b[39mcopy()\n\u001b[0;32m      3\u001b[0m     time1 \u001b[38;5;241m=\u001b[39m time\u001b[38;5;241m.\u001b[39mtime()\n\u001b[0;32m      4\u001b[0m     \u001b[38;5;28;01mfor\u001b[39;00m i \u001b[38;5;129;01min\u001b[39;00m \u001b[38;5;28mrange\u001b[39m(\u001b[38;5;28mlen\u001b[39m(array)):\n",
      "\u001b[1;31mKeyboardInterrupt\u001b[0m: "
     ]
    }
   ],
   "source": [
    "quick1, quicktime1 = quick_sort(arr1, 0, len(arr1) - 1)"
   ]
  },
  {
   "cell_type": "code",
   "execution_count": null,
   "id": "63aa44e2",
   "metadata": {},
   "outputs": [],
   "source": [
    "print(quick1)\n",
    "print(arr1)"
   ]
  },
  {
   "cell_type": "code",
   "execution_count": null,
   "id": "9fc38964",
   "metadata": {},
   "outputs": [],
   "source": []
  },
  {
   "cell_type": "code",
   "execution_count": null,
   "id": "a5f5fcc8",
   "metadata": {},
   "outputs": [],
   "source": []
  },
  {
   "cell_type": "markdown",
   "id": "508a556f",
   "metadata": {},
   "source": [
    "### Heap Sort Function"
   ]
  },
  {
   "cell_type": "code",
   "execution_count": 200,
   "id": "bab7e7a3",
   "metadata": {},
   "outputs": [],
   "source": [
    "def heapify(arr, n, i):\n",
    "    \"\"\"\n",
    "    Heapify a subtree rooted with node i, which is an index in arr[].\n",
    "    n is the size of the heap.\n",
    "    \"\"\"\n",
    "    largest = i     # Initialize largest as root\n",
    "    left = 2 * i + 1  # Left child index\n",
    "    right = 2 * i + 2  # Right child index\n",
    "\n",
    "    # Check if the left child of the root exists and is greater than root\n",
    "    if left < n and arr[left] > arr[largest]:\n",
    "        largest = left\n",
    "\n",
    "    # Check if the right child exists and is greater than the largest so far\n",
    "    if right < n and arr[right] > arr[largest]:\n",
    "        largest = right\n",
    "\n",
    "    # If largest is not the root\n",
    "    if largest != i:\n",
    "        arr[i], arr[largest] = arr[largest], arr[i]  # Swap\n",
    "\n",
    "        # Recursively heapify the affected subtree\n",
    "        heapify(arr, n, largest)"
   ]
  },
  {
   "cell_type": "code",
   "execution_count": 213,
   "id": "faf93b1b",
   "metadata": {},
   "outputs": [],
   "source": [
    "def heap_sort(arr):\n",
    "    array = arr.copy()\n",
    "    time1 = time.time()\n",
    "    n = len(array)\n",
    "\n",
    "    # Build a maxheap (rearrange the array)\n",
    "    for i in range(n // 2 - 1, -1, -1):\n",
    "        heapify(arr, n, i)\n",
    "\n",
    "    # One by one extract elements from heap\n",
    "    for i in range(n - 1, 0, -1):\n",
    "        array[i], array[0] = array[0], array[i]  # Swap\n",
    "        heapify(array, i, 0)\n",
    "    time2 = time.time()\n",
    "    timet = (time2 - time1) * 1000\n",
    "    return array, timet"
   ]
  },
  {
   "cell_type": "code",
   "execution_count": 214,
   "id": "221cb609",
   "metadata": {},
   "outputs": [],
   "source": [
    "heap1, heaptime1 = heap_sort(arr1)"
   ]
  },
  {
   "cell_type": "code",
   "execution_count": 218,
   "id": "8ab648da",
   "metadata": {},
   "outputs": [],
   "source": [
    "heap2, heaptime2 = heap_sort(arr2)"
   ]
  },
  {
   "cell_type": "code",
   "execution_count": 220,
   "id": "38c03cfb",
   "metadata": {},
   "outputs": [],
   "source": [
    "heap3, heaptime3 = heap_sort(arr3)"
   ]
  },
  {
   "cell_type": "code",
   "execution_count": 222,
   "id": "890081e5",
   "metadata": {},
   "outputs": [],
   "source": [
    "heap4, heaptime4 = heap_sort(arr4)"
   ]
  },
  {
   "cell_type": "code",
   "execution_count": 224,
   "id": "81413c8a",
   "metadata": {},
   "outputs": [],
   "source": [
    "heap5, heaptime5 = heap_sort(arr5)"
   ]
  },
  {
   "cell_type": "code",
   "execution_count": 226,
   "id": "500153ca",
   "metadata": {},
   "outputs": [],
   "source": [
    "heap6, heaptime6 = heap_sort(arr6)"
   ]
  },
  {
   "cell_type": "code",
   "execution_count": 228,
   "id": "78c765fd",
   "metadata": {},
   "outputs": [],
   "source": [
    "heap7, heaptime7 = heap_sort(arr7)"
   ]
  },
  {
   "cell_type": "markdown",
   "id": "79375f42",
   "metadata": {},
   "source": [
    "### Count Sort Function"
   ]
  },
  {
   "cell_type": "code",
   "execution_count": 74,
   "id": "74be3e23",
   "metadata": {},
   "outputs": [],
   "source": [
    "def count_sort(arr):\n",
    "    array = arr.copy()\n",
    "    time1 = time.time()\n",
    "    max_val = max(array)\n",
    "    min_val = min(array)\n",
    "    range_of_elements = max_val - min_val + 1\n",
    "\n",
    "    # Create count array and output array\n",
    "    count = [0] * range_of_elements\n",
    "    output = [0] * len(array)\n",
    "\n",
    "    # Store the count of each element\n",
    "    for i in range(len(array)):\n",
    "        count[array[i] - min_val] += 1\n",
    "\n",
    "    # Change count[i] so that it contains the actual position of this element in output array\n",
    "    for i in range(1, len(count)):\n",
    "        count[i] += count[i - 1]\n",
    "\n",
    "    # Build the output array\n",
    "    for i in range(len(array) - 1, -1, -1):\n",
    "        output[count[array[i] - min_val] - 1] = array[i]\n",
    "        count[array[i] - min_val] -= 1\n",
    "\n",
    "    # Copy the output array to arr so that arr now contains sorted elements\n",
    "    for i in range(len(array)):\n",
    "        array[i] = output[i]\n",
    "    \n",
    "    time2 = time.time()\n",
    "    timet = time2 - time1\n",
    "    timet *= 100\n",
    "    \n",
    "    return array, timet"
   ]
  },
  {
   "cell_type": "code",
   "execution_count": 75,
   "id": "a31c4242",
   "metadata": {},
   "outputs": [],
   "source": [
    "count1, counttime1 = count_sort(arr1)"
   ]
  },
  {
   "cell_type": "code",
   "execution_count": 77,
   "id": "1ec0c757",
   "metadata": {},
   "outputs": [],
   "source": [
    "count2, counttime2 = count_sort(arr2)"
   ]
  },
  {
   "cell_type": "code",
   "execution_count": 79,
   "id": "f763463e",
   "metadata": {},
   "outputs": [],
   "source": [
    "count3, counttime3 = count_sort(arr3)"
   ]
  },
  {
   "cell_type": "code",
   "execution_count": 81,
   "id": "75b8a262",
   "metadata": {},
   "outputs": [],
   "source": [
    "count4, counttime4 = count_sort(arr4)"
   ]
  },
  {
   "cell_type": "code",
   "execution_count": 83,
   "id": "ad4f6d5d",
   "metadata": {},
   "outputs": [],
   "source": [
    "count5, counttime5 = count_sort(arr5)"
   ]
  },
  {
   "cell_type": "code",
   "execution_count": 85,
   "id": "05bc5ede",
   "metadata": {},
   "outputs": [],
   "source": [
    "count6, counttime6 = count_sort(arr6)"
   ]
  },
  {
   "cell_type": "code",
   "execution_count": 87,
   "id": "12a8cba7",
   "metadata": {},
   "outputs": [],
   "source": [
    "count7, counttime7 = count_sort(arr7)"
   ]
  },
  {
   "cell_type": "markdown",
   "id": "51da2823",
   "metadata": {},
   "source": [
    "### Radix Sort Function"
   ]
  },
  {
   "cell_type": "code",
   "execution_count": 90,
   "id": "c0fd6cc3",
   "metadata": {},
   "outputs": [],
   "source": [
    "def counting_sort_for_radix(arr, exp):\n",
    "    n = len(arr)\n",
    "    output = [0] * n\n",
    "    count = [0] * 10  # Because digits can be from 0 to 9\n",
    "\n",
    "    # Count occurrences of digits\n",
    "    for i in range(n):\n",
    "        index = (arr[i] // exp) % 10\n",
    "        count[index] += 1\n",
    "\n",
    "    # Modify count array\n",
    "    for i in range(1, 10):\n",
    "        count[i] += count[i - 1]\n",
    "\n",
    "    # Build the output array\n",
    "    for i in range(n - 1, -1, -1):\n",
    "        index = (arr[i] // exp) % 10\n",
    "        output[count[index] - 1] = arr[i]\n",
    "        count[index] -= 1\n",
    "\n",
    "    # Copy the output array to arr\n",
    "    for i in range(n):\n",
    "        arr[i] = output[i]"
   ]
  },
  {
   "cell_type": "code",
   "execution_count": 91,
   "id": "c552fdb8",
   "metadata": {},
   "outputs": [],
   "source": [
    "def radix_sort(arr):\n",
    "    array = arr.copy()\n",
    "    time1 = time.time()\n",
    "    \n",
    "    max_val = max(array)\n",
    "\n",
    "    # Perform counting sort for each digit. exp is 10^i (i is current digit position)\n",
    "    exp = 1\n",
    "    while max_val // exp > 0:\n",
    "        counting_sort_for_radix(array, exp)\n",
    "        exp *= 10\n",
    "        \n",
    "    time2 = time.time()\n",
    "    timet = time2 - time1\n",
    "    timet *= 100\n",
    "\n",
    "    return array, timet"
   ]
  },
  {
   "cell_type": "code",
   "execution_count": 92,
   "id": "39386556",
   "metadata": {},
   "outputs": [],
   "source": [
    "radix1, countradix1 = radix_sort(arr1)"
   ]
  },
  {
   "cell_type": "code",
   "execution_count": 94,
   "id": "0dcaced6",
   "metadata": {},
   "outputs": [],
   "source": [
    "radix2, countradix2 = radix_sort(arr2)"
   ]
  },
  {
   "cell_type": "code",
   "execution_count": 97,
   "id": "7b92c70f",
   "metadata": {},
   "outputs": [],
   "source": [
    "radix3, countradix3 = radix_sort(arr3)"
   ]
  },
  {
   "cell_type": "code",
   "execution_count": 99,
   "id": "e5739f8c",
   "metadata": {},
   "outputs": [],
   "source": [
    "radix4, countradix4 = radix_sort(arr4)"
   ]
  },
  {
   "cell_type": "code",
   "execution_count": 103,
   "id": "64b13f48",
   "metadata": {},
   "outputs": [],
   "source": [
    "radix5, countradix5 = radix_sort(arr5)"
   ]
  },
  {
   "cell_type": "code",
   "execution_count": 105,
   "id": "1be5357f",
   "metadata": {},
   "outputs": [],
   "source": [
    "radix6, countradix6 = radix_sort(arr6)"
   ]
  },
  {
   "cell_type": "code",
   "execution_count": 107,
   "id": "b59c2cac",
   "metadata": {},
   "outputs": [],
   "source": [
    "radix7, countradix7 = radix_sort(arr7)"
   ]
  },
  {
   "cell_type": "markdown",
   "id": "34fc91fd",
   "metadata": {},
   "source": [
    "### Bucket Sort Function"
   ]
  },
  {
   "cell_type": "code",
   "execution_count": 112,
   "id": "f94d2d5c",
   "metadata": {},
   "outputs": [],
   "source": [
    "def bucket_sort(arr):\n",
    "    array = arr.copy()\n",
    "    \n",
    "    time1 = time.time()\n",
    "    \n",
    "    if len(array) == 0:\n",
    "        return array\n",
    "\n",
    "    # Find the maximum value to scale the indices\n",
    "    max_val = max(array)\n",
    "\n",
    "    # Create empty buckets\n",
    "    bucket = [[] for _ in range(len(array))]\n",
    "\n",
    "    # Put array elements in different buckets, normalize by max_val\n",
    "    for val in array:\n",
    "        index = int((val / max_val) * (len(array) - 1))  # Normalize the index\n",
    "        bucket[index].append(val)\n",
    "\n",
    "    # Sort individual buckets\n",
    "    for b in bucket:\n",
    "        insertionsort(b, len(b))\n",
    "\n",
    "    # Concatenate all sorted buckets into the original array\n",
    "    result = []\n",
    "    for b in bucket:\n",
    "        result.extend(b)\n",
    "    \n",
    "    time2 = time.time()\n",
    "    timet = time2 - time1\n",
    "    timet *= 100\n",
    "\n",
    "    return result, timet"
   ]
  },
  {
   "cell_type": "code",
   "execution_count": 113,
   "id": "76cdb86c",
   "metadata": {},
   "outputs": [],
   "source": [
    "bucket1, buckettime1 = bucket_sort(arr1)"
   ]
  },
  {
   "cell_type": "code",
   "execution_count": 115,
   "id": "2fc12014",
   "metadata": {},
   "outputs": [],
   "source": [
    "bucket2, buckettime2 = bucket_sort(arr2)"
   ]
  },
  {
   "cell_type": "code",
   "execution_count": 117,
   "id": "a38596f0",
   "metadata": {},
   "outputs": [],
   "source": [
    "bucket3, buckettime3 = bucket_sort(arr3)"
   ]
  },
  {
   "cell_type": "code",
   "execution_count": 119,
   "id": "6faa0eea",
   "metadata": {},
   "outputs": [],
   "source": [
    "bucket4, buckettime4 = bucket_sort(arr4)"
   ]
  },
  {
   "cell_type": "code",
   "execution_count": 121,
   "id": "ad2f0202",
   "metadata": {},
   "outputs": [],
   "source": [
    "bucket5, buckettime5 = bucket_sort(arr5)"
   ]
  },
  {
   "cell_type": "code",
   "execution_count": 123,
   "id": "a72731d4",
   "metadata": {},
   "outputs": [],
   "source": [
    "bucket6, buckettime6 = bucket_sort(arr6)"
   ]
  },
  {
   "cell_type": "code",
   "execution_count": 125,
   "id": "1c67b152",
   "metadata": {},
   "outputs": [],
   "source": [
    "bucket7, buckettime7 = bucket_sort(arr7)"
   ]
  },
  {
   "cell_type": "markdown",
   "id": "817003a3",
   "metadata": {},
   "source": [
    "### Storing Time in dataset"
   ]
  },
  {
   "cell_type": "code",
   "execution_count": 135,
   "id": "4cd44545",
   "metadata": {},
   "outputs": [],
   "source": [
    "data[\"Bubble\"].append(time1)\n",
    "data[\"Bubble\"].append(time2)\n",
    "data[\"Bubble\"].append(time3)\n",
    "data[\"Bubble\"].append(time4)\n",
    "data[\"Bubble\"].append(time5)\n",
    "data[\"Bubble\"].append(time6)\n",
    "data[\"Bubble\"].append(time7)"
   ]
  },
  {
   "cell_type": "code",
   "execution_count": 136,
   "id": "9252f9ec",
   "metadata": {},
   "outputs": [],
   "source": [
    "data[\"Insertion\"].append(timeinsert1)\n",
    "data[\"Insertion\"].append(timeinsert2)\n",
    "data[\"Insertion\"].append(timeinsert3)\n",
    "data[\"Insertion\"].append(timeinsert4)\n",
    "data[\"Insertion\"].append(timeinsert5)\n",
    "data[\"Insertion\"].append(timeinsert6)\n",
    "data[\"Insertion\"].append(timeinsert7)"
   ]
  },
  {
   "cell_type": "code",
   "execution_count": 137,
   "id": "cac3fdd4",
   "metadata": {},
   "outputs": [],
   "source": [
    "data[\"Selection\"].append(timeselect1)\n",
    "data[\"Selection\"].append(timeselect2)\n",
    "data[\"Selection\"].append(timeselect3)\n",
    "data[\"Selection\"].append(timeselect4)\n",
    "data[\"Selection\"].append(timeselect5)\n",
    "data[\"Selection\"].append(timeselect6)\n",
    "data[\"Selection\"].append(timeselect7)"
   ]
  },
  {
   "cell_type": "code",
   "execution_count": null,
   "id": "8246c8bd",
   "metadata": {},
   "outputs": [],
   "source": []
  },
  {
   "cell_type": "code",
   "execution_count": null,
   "id": "2cf1c759",
   "metadata": {},
   "outputs": [],
   "source": []
  },
  {
   "cell_type": "code",
   "execution_count": null,
   "id": "2139a10e",
   "metadata": {},
   "outputs": [],
   "source": []
  },
  {
   "cell_type": "code",
   "execution_count": 139,
   "id": "67824cd7",
   "metadata": {},
   "outputs": [],
   "source": [
    "data[\"Count\"].append(counttime1)\n",
    "data[\"Count\"].append(counttime2)\n",
    "data[\"Count\"].append(counttime3)\n",
    "data[\"Count\"].append(counttime4)\n",
    "data[\"Count\"].append(counttime5)\n",
    "data[\"Count\"].append(counttime6)\n",
    "data[\"Count\"].append(counttime7)"
   ]
  },
  {
   "cell_type": "code",
   "execution_count": 140,
   "id": "bca756f9",
   "metadata": {},
   "outputs": [],
   "source": [
    "data[\"Radix\"].append(countradix1)\n",
    "data[\"Radix\"].append(countradix2)\n",
    "data[\"Radix\"].append(countradix3)\n",
    "data[\"Radix\"].append(countradix4)\n",
    "data[\"Radix\"].append(countradix5)\n",
    "data[\"Radix\"].append(countradix6)\n",
    "data[\"Radix\"].append(countradix7)"
   ]
  },
  {
   "cell_type": "code",
   "execution_count": 141,
   "id": "966d07d2",
   "metadata": {},
   "outputs": [],
   "source": [
    "data[\"Bucket\"].append(buckettime1)\n",
    "data[\"Bucket\"].append(buckettime2)\n",
    "data[\"Bucket\"].append(buckettime3)\n",
    "data[\"Bucket\"].append(buckettime4)\n",
    "data[\"Bucket\"].append(buckettime5)\n",
    "data[\"Bucket\"].append(buckettime6)\n",
    "data[\"Bucket\"].append(buckettime7)"
   ]
  },
  {
   "cell_type": "code",
   "execution_count": 142,
   "id": "20d53f33",
   "metadata": {},
   "outputs": [
    {
     "data": {
      "text/plain": [
       "{'Array Size': [100, 500, 1000, 5000, 10000, 50000, 100000],\n",
       " 'Bubble': [0.2917051315307617,\n",
       "  15.488386154174805,\n",
       "  31.316065788269043,\n",
       "  748.9114999771118,\n",
       "  3106.5240621566772,\n",
       "  76701.97329521179,\n",
       "  569245.116186142],\n",
       " 'Insertion': [0.3903388977050781,\n",
       "  17.2882080078125,\n",
       "  39.60673809051514,\n",
       "  1010.7774019241333,\n",
       "  4088.2349014282227,\n",
       "  102053.97381782532,\n",
       "  316580.9030532837],\n",
       " 'Selection': [0.2927541732788086,\n",
       "  7.783675193786621,\n",
       "  28.144478797912598,\n",
       "  705.265474319458,\n",
       "  2738.6231184005737,\n",
       "  73165.91899394989,\n",
       "  137786.45827770233],\n",
       " 'Merge': [],\n",
       " 'Quick': [],\n",
       " 'Heap': [],\n",
       " 'Count': [0.0,\n",
       "  0.19519329071044922,\n",
       "  0.22192001342773438,\n",
       "  2.814173698425293,\n",
       "  3.2193422317504883,\n",
       "  18.37000846862793,\n",
       "  29.85694408416748],\n",
       " 'Radix': [0.18203258514404297,\n",
       "  0.4353761672973633,\n",
       "  0.9393692016601562,\n",
       "  4.919075965881348,\n",
       "  10.953283309936523,\n",
       "  54.21631336212158,\n",
       "  136.89463138580322],\n",
       " 'Bucket': [0.0,\n",
       "  0.23453235626220703,\n",
       "  0.9837627410888672,\n",
       "  1.6625404357910156,\n",
       "  3.4261465072631836,\n",
       "  53.588151931762695,\n",
       "  49.76296424865723]}"
      ]
     },
     "execution_count": 142,
     "metadata": {},
     "output_type": "execute_result"
    }
   ],
   "source": [
    "data"
   ]
  },
  {
   "cell_type": "markdown",
   "id": "7d35cc59",
   "metadata": {},
   "source": [
    "# Task 2"
   ]
  },
  {
   "cell_type": "code",
   "execution_count": 143,
   "id": "306cec75",
   "metadata": {},
   "outputs": [
    {
     "data": {
      "image/png": "[encoded data removed]",
      "text/plain": [
       "<Figure size 1000x600 with 1 Axes>"
      ]
     },
     "metadata": {},
     "output_type": "display_data"
    }
   ],
   "source": [
    "plt.figure(figsize=(10, 6))\n",
    "plt.plot(data[\"Array Size\"], data[\"Bubble\"], marker = 'o', linestyle = '-', label = \"Bubble Sort\")\n",
    "plt.plot(data[\"Array Size\"], data[\"Insertion\"], marker = 'o', linestyle = '-', label = \"Insertion Sort\")\n",
    "plt.plot(data[\"Array Size\"], data[\"Selection\"], marker = 'o', linestyle = '-', label = \"Selecction Sort\")\n",
    "plt.plot(data[\"Array Size\"], data[\"Count\"], marker = 'o', linestyle = '-', label = \"Count Sort\")\n",
    "plt.plot(data[\"Array Size\"], data[\"Radix\"], marker = 'o', linestyle = '-', label = \"Radix Sort\")\n",
    "plt.plot(data[\"Array Size\"], data[\"Bucket\"], marker = 'o', linestyle = '-', label = \"Bucket Sort\")\n",
    "\n",
    "plt.title('Empirical Time Complexity of Sorting Algorithm')\n",
    "plt.xlabel('Array Size')\n",
    "plt.ylabel('Time (milliseconds)')\n",
    "\n",
    "plt.xscale('log')\n",
    "plt.yscale('log')\n",
    "\n",
    "plt.grid(True)\n",
    "plt.legend()\n",
    "plt.show()"
   ]
  },
  {
   "cell_type": "code",
   "execution_count": null,
   "id": "f25cdd37",
   "metadata": {},
   "outputs": [],
   "source": []
  }
 ],
 "metadata": {
  "kernelspec": {
   "display_name": "Python 3 (ipykernel)",
   "language": "python",
   "name": "python3"
  },
  "language_info": {
   "codemirror_mode": {
    "name": "ipython",
    "version": 3
   },
   "file_extension": ".py",
   "mimetype": "text/x-python",
   "name": "python",
   "nbconvert_exporter": "python",
   "pygments_lexer": "ipython3",
   "version": "3.11.5"
  }
 },
 "nbformat": 4,
 "nbformat_minor": 5
}
